{
  "cells": [
    {
      "cell_type": "code",
      "execution_count": null,
      "metadata": {
        "id": "BCpQaqwoH2Pk"
      },
      "outputs": [],
      "source": [
        "from IPython.display import clear_output"
      ]
    },
    {
      "cell_type": "code",
      "execution_count": null,
      "metadata": {
        "id": "HBuuF9MJKjoe"
      },
      "outputs": [],
      "source": [
        "# Download the required libraries (needed when running outside colab where the environment doesn't come pre-loaded with libraries)\n",
        "\n",
        "%pip install torch\n",
        "%pip install torchvision\n",
        "%pip install matplotlib\n",
        "\n",
        "clear_output()"
      ]
    },
    {
      "cell_type": "code",
      "execution_count": null,
      "metadata": {
        "id": "gtV7omCIKq0K"
      },
      "outputs": [],
      "source": [
        "import torch\n",
        "import torch.nn as nn\n",
        "\n",
        "from torchvision.datasets import CIFAR10\n",
        "from torchvision.transforms.functional import to_tensor, to_pil_image, resize\n",
        "\n",
        "from torch.utils.data import DataLoader\n",
        "from torch.optim import Adam\n",
        "\n",
        "import matplotlib.pyplot as plt"
      ]
    },
    {
      "cell_type": "markdown",
      "metadata": {
        "id": "JBNjc2JpLGIa"
      },
      "source": [
        "#Contents:\n",
        "\n",
        "1. We'll make a classifier for CIFAR10 dataset in pytorch using a NN architecture\n",
        "\n",
        "About CIFAR10:\n",
        "\n",
        "The CIFAR-10 dataset consists of 60000 32x32 colour images in 10 classes, with 6000 images per class. There are 50000 training images and 10000 test images.\n",
        "\n",
        "![CIFAR-10 image](https://production-media.paperswithcode.com/datasets/4fdf2b82-2bc3-4f97-ba51-400322b228b1.png)\n",
        "\n",
        "\n",
        "You need to know:\n",
        "\n",
        "1. **torch** (for impelementation)\n",
        "2. a little bit of **matplotlib** (for visualization)\n",
        "\n",
        "\n",
        "Good to have knowledge of:\n",
        "\n",
        "1. torch dataset and dataloader"
      ]
    },
    {
      "cell_type": "markdown",
      "metadata": {
        "id": "Gw5z1ZSoLlh1"
      },
      "source": [
        "# Downloading the dataset"
      ]
    },
    {
      "cell_type": "code",
      "execution_count": null,
      "metadata": {
        "colab": {
          "base_uri": "https://localhost:8080/"
        },
        "id": "MlJwrK5ZLDeV",
        "outputId": "e5c43f03-347e-4df2-d9ee-6ba9b95a8107"
      },
      "outputs": [
        {
          "output_type": "stream",
          "name": "stdout",
          "text": [
            "Downloading https://www.cs.toronto.edu/~kriz/cifar-10-python.tar.gz to data/cifar-10-python.tar.gz\n"
          ]
        },
        {
          "output_type": "stream",
          "name": "stderr",
          "text": [
            "100%|██████████| 170498071/170498071 [00:03<00:00, 43704452.14it/s]\n"
          ]
        },
        {
          "output_type": "stream",
          "name": "stdout",
          "text": [
            "Extracting data/cifar-10-python.tar.gz to data/\n",
            "Files already downloaded and verified\n"
          ]
        }
      ],
      "source": [
        "from torchvision import transforms\n",
        "dataset_root = 'data/'\n",
        "\n",
        "data_transform = transforms.Compose([\n",
        "    transforms.Grayscale(),\n",
        "    transforms.ToTensor(),\n",
        "])\n",
        "\n",
        "train_dataset = CIFAR10(root=dataset_root, train=True, download=True, transform=data_transform)\n",
        "val_dataset = CIFAR10(root=dataset_root, train=False, download=True, transform=data_transform)"
      ]
    },
    {
      "cell_type": "code",
      "execution_count": null,
      "metadata": {
        "colab": {
          "base_uri": "https://localhost:8080/"
        },
        "id": "60ugrf0DMF2N",
        "outputId": "0dcdad93-5ded-4846-9236-885e9c4629ae"
      },
      "outputs": [
        {
          "output_type": "stream",
          "name": "stdout",
          "text": [
            "Length of train_dataset is 50000\n",
            "Length of val_dataset is 10000\n"
          ]
        }
      ],
      "source": [
        "print('Length of train_dataset is', len(train_dataset))\n",
        "print('Length of val_dataset is'  , len(val_dataset))"
      ]
    },
    {
      "cell_type": "code",
      "execution_count": null,
      "metadata": {
        "id": "Oj4XUGKBQmwH"
      },
      "outputs": [],
      "source": [
        "batch_size = 64\n",
        "\n",
        "train_loader = DataLoader(train_dataset, batch_size=batch_size, shuffle=True)\n",
        "val_loader = DataLoader(val_dataset, batch_size=batch_size, shuffle=False)  # no need to shuffle validation data"
      ]
    },
    {
      "cell_type": "markdown",
      "metadata": {
        "id": "1cBvsQtwejyV"
      },
      "source": [
        "## Implement the Network"
      ]
    },
    {
      "cell_type": "code",
      "source": [
        "class NN(nn.Module):\n",
        "    def __init__(self, ni, no):\n",
        "        super(NN, self).__init__()\n",
        "\n",
        "        self.layer1 = nn.Linear(ni, 512)\n",
        "        self.layer2 = nn.Linear(512, 256)\n",
        "        self.layer3 = nn.Linear(256, 128)\n",
        "        self.layer4 = nn.Linear(128, 64)\n",
        "        self.layer5 = nn.Linear(64, no)\n",
        "\n",
        "        self.hidden_activation = nn.ReLU()\n",
        "\n",
        "    def forward(self, x):\n",
        "\n",
        "        x = self.hidden_activation(self.layer1(x))\n",
        "        x = self.hidden_activation(self.layer2(x))\n",
        "        x = self.hidden_activation(self.layer3(x))\n",
        "        x = self.hidden_activation(self.layer4(x))\n",
        "        x = self.layer5(x)\n",
        "\n",
        "        return x\n"
      ],
      "metadata": {
        "id": "At2nOegZQopa"
      },
      "execution_count": null,
      "outputs": []
    },
    {
      "cell_type": "code",
      "source": [
        "WIDTH=32\n",
        "HEIGHT=32\n",
        "device = 'cuda'\n",
        "epochs = 20\n",
        "lr = 1e-4\n",
        "\n",
        "train_losses = []\n",
        "val_losses = []\n",
        "\n",
        "model = NN(ni=WIDTH*HEIGHT, no=10)\n",
        "\n",
        "optimizer = Adam(params=model.parameters(), lr=lr)\n",
        "criterion = nn.CrossEntropyLoss()\n",
        "model.to(device)"
      ],
      "metadata": {
        "colab": {
          "base_uri": "https://localhost:8080/"
        },
        "id": "IYiGYAryUPIv",
        "outputId": "649137f5-7bda-4c7d-a4c7-55786f4cbcec"
      },
      "execution_count": null,
      "outputs": [
        {
          "output_type": "execute_result",
          "data": {
            "text/plain": [
              "NN(\n",
              "  (layer1): Linear(in_features=1024, out_features=1024, bias=True)\n",
              "  (layer2): Linear(in_features=1024, out_features=512, bias=True)\n",
              "  (layer3): Linear(in_features=512, out_features=256, bias=True)\n",
              "  (layer4): Linear(in_features=256, out_features=128, bias=True)\n",
              "  (layer5): Linear(in_features=128, out_features=64, bias=True)\n",
              "  (layer6): Linear(in_features=64, out_features=10, bias=True)\n",
              "  (hidden_activation): ReLU()\n",
              ")"
            ]
          },
          "metadata": {},
          "execution_count": 18
        }
      ]
    },
    {
      "cell_type": "code",
      "source": [
        "%%time\n",
        "for epoch_num in range(epochs):\n",
        "    model.train()\n",
        "\n",
        "    epoch_losses = 0\n",
        "\n",
        "    for batch_x, batch_y in train_loader:\n",
        "        batch_x = batch_x.view(-1, WIDTH*HEIGHT).to(device)\n",
        "        batch_y = batch_y.to(device)\n",
        "\n",
        "        batch_y_preds = model(batch_x)\n",
        "\n",
        "        loss = criterion(batch_y_preds, batch_y)\n",
        "\n",
        "        optimizer.zero_grad()\n",
        "        loss.backward()\n",
        "        optimizer.step()\n",
        "\n",
        "        epoch_losses += (len(batch_y)*loss.item())\n",
        "\n",
        "    epoch_loss = epoch_losses/len(train_loader.dataset)\n",
        "    train_losses.append(epoch_loss)\n",
        "\n",
        "    model.eval()\n",
        "    correctly_labelled = 0\n",
        "    with torch.no_grad():\n",
        "        val_epoch_losses = 0\n",
        "        for val_batch_x, val_batch_y in val_loader:\n",
        "            val_batch_x = val_batch_x.view(-1, WIDTH*HEIGHT).to(device)\n",
        "            val_batch_y = val_batch_y.to(device)\n",
        "\n",
        "            val_batch_y_preds = model(val_batch_x)\n",
        "            val_loss = criterion(val_batch_y_preds, val_batch_y)\n",
        "            val_epoch_losses += (len(val_batch_y)*val_loss.item())\n",
        "\n",
        "            correctly_labelled += (val_batch_y_preds.argmax(dim=1) == val_batch_y).sum().item()\n",
        "\n",
        "        val_epoch_loss = val_epoch_losses/len(val_loader.dataset)\n",
        "        val_losses.append(val_epoch_loss)\n",
        "\n",
        "    print(f'Epoch: {epoch_num}, train_loss={epoch_loss}, val_loss={val_epoch_loss}. labelled {correctly_labelled}/{len(val_loader.dataset)} correctly ({correctly_labelled/len(val_loader.dataset)*100}% accuracy)')\n",
        "print('Training Done')\n"
      ],
      "metadata": {
        "colab": {
          "base_uri": "https://localhost:8080/"
        },
        "id": "0eTvr1D8WFSd",
        "outputId": "34980e3b-d6b8-4d17-c0d9-017191de4ded"
      },
      "execution_count": null,
      "outputs": [
        {
          "output_type": "stream",
          "name": "stdout",
          "text": [
            "Epoch: 0, train_loss=2.1257618060684202, val_loss=2.042176940536499. labelled 2415/10000 correctly (24.15% accuracy)\n",
            "Epoch: 1, train_loss=1.994374637298584, val_loss=1.9637459308624268. labelled 2887/10000 correctly (28.87% accuracy)\n",
            "Epoch: 2, train_loss=1.9155167639160156, val_loss=1.885334030342102. labelled 3226/10000 correctly (32.26% accuracy)\n",
            "Epoch: 3, train_loss=1.8524674214935302, val_loss=1.835791297531128. labelled 3412/10000 correctly (34.12% accuracy)\n",
            "Epoch: 4, train_loss=1.8034825946044921, val_loss=1.7802491426467895. labelled 3584/10000 correctly (35.839999999999996% accuracy)\n",
            "Epoch: 5, train_loss=1.7624145903778077, val_loss=1.758957271194458. labelled 3659/10000 correctly (36.59% accuracy)\n",
            "Epoch: 6, train_loss=1.7248065029907227, val_loss=1.7244363700866698. labelled 3794/10000 correctly (37.940000000000005% accuracy)\n",
            "Epoch: 7, train_loss=1.691745566253662, val_loss=1.7149509395599365. labelled 3801/10000 correctly (38.01% accuracy)\n",
            "Epoch: 8, train_loss=1.660668501739502, val_loss=1.7719311269760132. labelled 3724/10000 correctly (37.24% accuracy)\n",
            "Epoch: 9, train_loss=1.6341168419647216, val_loss=1.6503534521102905. labelled 4074/10000 correctly (40.739999999999995% accuracy)\n",
            "Epoch: 10, train_loss=1.6051980996322632, val_loss=1.6609285217285157. labelled 4133/10000 correctly (41.33% accuracy)\n",
            "Epoch: 11, train_loss=1.5789047728729249, val_loss=1.6356759233474731. labelled 4172/10000 correctly (41.72% accuracy)\n",
            "Epoch: 12, train_loss=1.5549605444717407, val_loss=1.6248412172317506. labelled 4160/10000 correctly (41.6% accuracy)\n",
            "Epoch: 13, train_loss=1.5337469129562378, val_loss=1.6271624731063843. labelled 4161/10000 correctly (41.61% accuracy)\n",
            "Epoch: 14, train_loss=1.509895904006958, val_loss=1.5970973211288453. labelled 4270/10000 correctly (42.699999999999996% accuracy)\n",
            "Epoch: 15, train_loss=1.4883767408752442, val_loss=1.5965970935821534. labelled 4353/10000 correctly (43.53% accuracy)\n",
            "Epoch: 16, train_loss=1.4672866650390626, val_loss=1.5744047075271606. labelled 4383/10000 correctly (43.830000000000005% accuracy)\n",
            "Epoch: 17, train_loss=1.4476802605056762, val_loss=1.571764514541626. labelled 4417/10000 correctly (44.17% accuracy)\n",
            "Epoch: 18, train_loss=1.429559215965271, val_loss=1.5729513097763062. labelled 4349/10000 correctly (43.49% accuracy)\n",
            "Epoch: 19, train_loss=1.4069816218566895, val_loss=1.5611130985260009. labelled 4554/10000 correctly (45.540000000000006% accuracy)\n",
            "Training Done\n",
            "CPU times: user 3min 27s, sys: 1.07 s, total: 3min 28s\n",
            "Wall time: 3min 32s\n"
          ]
        }
      ]
    },
    {
      "cell_type": "code",
      "source": [
        "plt.plot(train_losses, label='train loss')\n",
        "plt.plot(val_losses, label='val loss')\n",
        "plt.xlabel('Epoch')\n",
        "plt.ylabel('Loss (Cross Entropy)')\n",
        "plt.legend()\n",
        "plt.show()"
      ],
      "metadata": {
        "colab": {
          "base_uri": "https://localhost:8080/",
          "height": 449
        },
        "id": "8lXhJj6UeWmo",
        "outputId": "e54db9be-3ede-4cf0-9891-2fca87488e19"
      },
      "execution_count": null,
      "outputs": [
        {
          "output_type": "display_data",
          "data": {
            "text/plain": [
              "<Figure size 640x480 with 1 Axes>"
            ],
            "image/png": "[encoded data removed]"
          },
          "metadata": {}
        }
      ]
    },
    {
      "cell_type": "code",
      "source": [],
      "metadata": {
        "id": "94_QnqYqj1LK"
      },
      "execution_count": null,
      "outputs": []
    }
  ],
  "metadata": {
    "colab": {
      "gpuType": "T4",
      "provenance": []
    },
    "kernelspec": {
      "display_name": "Python 3 (ipykernel)",
      "language": "python",
      "name": "python3"
    },
    "language_info": {
      "codemirror_mode": {
        "name": "ipython",
        "version": 3
      },
      "file_extension": ".py",
      "mimetype": "text/x-python",
      "name": "python",
      "nbconvert_exporter": "python",
      "pygments_lexer": "ipython3",
      "version": "3.11.6"
    }
  },
  "nbformat": 4,
  "nbformat_minor": 0
}