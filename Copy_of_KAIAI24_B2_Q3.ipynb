{
  "nbformat": 4,
  "nbformat_minor": 0,
  "metadata": {
    "colab": {
      "provenance": [],
      "gpuType": "T4"
    },
    "kernelspec": {
      "name": "python3",
      "display_name": "Python 3"
    },
    "language_info": {
      "name": "python"
    },
    "accelerator": "GPU"
  },
  "cells": [
    {
      "cell_type": "markdown",
      "source": [
        "## Task: Train an EMNIST classifier\n",
        "\n",
        "EMNIST (or extended MNIST) is just like MNIST, a bunch of handwritten images, except instead of just digits (0-9) it also has uppercase and lowercase characters.\n",
        "\n",
        "You are provided with the code to load the EMNIST train and split **datasets**\n",
        "\n",
        "Write and train a classifier for EMNIST. Make sure to\n",
        "\n",
        "- Show how your loss(es) dropped during training.\n",
        "- Show final performance of your model on untrained data.\n",
        "- Maintain good code quality."
      ],
      "metadata": {
        "id": "zemWtDr8gVOf"
      }
    },
    {
      "cell_type": "code",
      "source": [
        "import torch\n",
        "import torch.nn as nn\n",
        "import torch.optim as optim\n",
        "\n",
        "import matplotlib.pyplot as plt\n",
        "import numpy as np\n",
        "\n",
        "import torchvision\n",
        "from torchvision.datasets import EMNIST\n",
        "import torchvision.transforms.functional as F\n",
        "import torch.nn.functional as F\n",
        "from torchvision import transforms\n",
        "from torch.utils.data import DataLoader, Subset"
      ],
      "metadata": {
        "id": "4GQMlmw2hwbn"
      },
      "execution_count": null,
      "outputs": []
    },
    {
      "cell_type": "code",
      "source": [
        "train_data = EMNIST(root='emnist_data/', split='byclass', download=True)\n",
        "test_data = EMNIST(root='emnist_data/', split='byclass', download=True, train=False)"
      ],
      "metadata": {
        "id": "InCfHKZme7ga"
      },
      "execution_count": null,
      "outputs": []
    },
    {
      "cell_type": "code",
      "source": [
        "# This cell is for demo purposes. feel free to remove it if you want.\n",
        "print('Number of classes in dataset:', len(train_data.classes))\n",
        "print('Unique labels:', train_data.classes)\n",
        "\n",
        "demo_img, demo_label = train_data[10]\n",
        "\n",
        "print(demo_label)\n",
        "torchvision.transforms.functional.resize(demo_img, (255, 255))"
      ],
      "metadata": {
        "id": "udb4rY5Vhaau",
        "colab": {
          "base_uri": "https://localhost:8080/",
          "height": 346
        },
        "outputId": "47d25bc4-afaa-4b99-91f3-3202d2169250"
      },
      "execution_count": null,
      "outputs": [
        {
          "output_type": "stream",
          "name": "stdout",
          "text": [
            "Number of classes in dataset: 62\n",
            "Unique labels: ['0', '1', '2', '3', '4', '5', '6', '7', '8', '9', 'A', 'B', 'C', 'D', 'E', 'F', 'G', 'H', 'I', 'J', 'K', 'L', 'M', 'N', 'O', 'P', 'Q', 'R', 'S', 'T', 'U', 'V', 'W', 'X', 'Y', 'Z', 'a', 'b', 'c', 'd', 'e', 'f', 'g', 'h', 'i', 'j', 'k', 'l', 'm', 'n', 'o', 'p', 'q', 'r', 's', 't', 'u', 'v', 'w', 'x', 'y', 'z']\n",
            "7\n"
          ]
        },
        {
          "output_type": "execute_result",
          "data": {
            "text/plain": [
              "<PIL.Image.Image image mode=L size=255x255>"
            ],
            "image/png": "[encoded data removed]"
          },
          "metadata": {},
          "execution_count": 82
        }
      ]
    },
    {
      "cell_type": "code",
      "source": [
        "# Transformations for the EMNIST dataset\n",
        "transform = transforms.Compose([\n",
        "    transforms.ToTensor(),\n",
        "])\n",
        "\n",
        "# Load the datasets\n",
        "train_data = EMNIST(root='emnist_data/', split='byclass', train=True, download=True, transform=transform)\n",
        "test_data = EMNIST(root='emnist_data/', split='byclass', train=False, download=True, transform=transform)\n",
        "\n",
        "# Define the size of the subset as a fraction of the original dataset\n",
        "subset_fraction = 0.3 ## You can play with this to get a bigger or smaller subset\n",
        "\n",
        "# Create indices for the training subset\n",
        "train_indices = np.random.choice(len(train_data), int(len(train_data) * subset_fraction), replace=False)\n",
        "\n",
        "# Create the training subset\n",
        "train_subset = Subset(train_data, train_indices)\n",
        "\n",
        "# For the test set, you can do the same or use the full test set\n",
        "test_indices = np.random.choice(len(test_data), int(len(test_data) * subset_fraction), replace=False)\n",
        "test_subset = Subset(test_data, test_indices)\n",
        "\n",
        "# Check the size of the subset\n",
        "print(f\"Training subset size: {len(train_subset)}\")\n",
        "print(f\"Test subset size: {len(test_subset)}\")\n",
        "\n",
        "# Define the DataLoaders\n",
        "train_loader = DataLoader(train_subset, batch_size=32, shuffle=True)\n",
        "test_loader = DataLoader(test_subset, batch_size=32, shuffle=False)"
      ],
      "metadata": {
        "id": "Ia6MAyxqhiAi",
        "colab": {
          "base_uri": "https://localhost:8080/"
        },
        "outputId": "46f5b4a8-a824-4650-ee91-acb0eab3f908"
      },
      "execution_count": null,
      "outputs": [
        {
          "output_type": "stream",
          "name": "stdout",
          "text": [
            "Training subset size: 209379\n",
            "Test subset size: 34896\n"
          ]
        }
      ]
    },
    {
      "cell_type": "code",
      "source": [
        "print(train_data[0][0].shape)"
      ],
      "metadata": {
        "id": "j1UJF3VMTb2L",
        "colab": {
          "base_uri": "https://localhost:8080/"
        },
        "outputId": "33559589-888b-4323-b220-23cc8157269f"
      },
      "execution_count": null,
      "outputs": [
        {
          "output_type": "stream",
          "name": "stdout",
          "text": [
            "torch.Size([1, 28, 28])\n"
          ]
        }
      ]
    },
    {
      "cell_type": "code",
      "source": [
        "# 4 Layer NN model using LeakyReLU as the activation function\n",
        "class NN(nn.Module):\n",
        "    def __init__(self, ni, no, dropout_rate=0.2):\n",
        "        super(NN, self).__init__()\n",
        "        self.layer1 = nn.Linear(ni, 512)\n",
        "        self.layer2 = nn.Linear(512, 256)\n",
        "        self.layer3 = nn.Linear(256, 128)\n",
        "        self.layer4 = nn.Linear(128, no)\n",
        "\n",
        "        self.hidden_activation = nn.LeakyReLU()\n",
        "        self.dropout = nn.Dropout(dropout_rate) # Dropout to reduce overfitting\n",
        "    def forward(self, x):\n",
        "        x = self.layer1(x)\n",
        "        x = self.hidden_activation(x)\n",
        "        x = self.dropout(x)\n",
        "\n",
        "        x = self.layer2(x)\n",
        "        x = self.hidden_activation(x)\n",
        "        x = self.dropout(x)\n",
        "\n",
        "        x = self.layer3(x)\n",
        "        x = self.hidden_activation(x)\n",
        "\n",
        "        x = self.layer4(x)\n",
        "        return x"
      ],
      "metadata": {
        "id": "Q-eiZKgSPN4-"
      },
      "execution_count": null,
      "outputs": []
    },
    {
      "cell_type": "code",
      "source": [
        "lr = 1e-4 # Learning Rate\n",
        "num_epochs = 25\n",
        "weight_decay = 1e-4 # L2 Regularization Term\n",
        "device = 'cuda' if torch.cuda.is_available() else 'cpu'\n",
        "LENGTH = 28 # Length of a picture (28 x 28)\n",
        "num_classes = 62 # number of classes to predict\n",
        "\n",
        "model = NN(LENGTH * LENGTH, num_classes)\n",
        "\n",
        "train_losses = []\n",
        "test_losses = []\n",
        "\n",
        "optimizer = torch.optim.Adam(model.parameters(), lr=lr, weight_decay=weight_decay)\n",
        "criterion = nn.CrossEntropyLoss()\n",
        "\n",
        "model.to(device)\n",
        "print('Device:', device)"
      ],
      "metadata": {
        "id": "9slCwnIXPQIf",
        "colab": {
          "base_uri": "https://localhost:8080/"
        },
        "outputId": "9570669a-b3e2-4265-856d-9b3bb1410f2a"
      },
      "execution_count": null,
      "outputs": [
        {
          "output_type": "stream",
          "name": "stdout",
          "text": [
            "Device: cuda\n"
          ]
        }
      ]
    },
    {
      "cell_type": "markdown",
      "source": [
        "Pre Training Performance"
      ],
      "metadata": {
        "id": "dWS8RpiVUPfS"
      }
    },
    {
      "cell_type": "code",
      "source": [
        "with torch.no_grad():\n",
        "    model.eval()\n",
        "    correctly_labelled = 0\n",
        "    batch_losses = 0\n",
        "    for batch_x, batch_y in test_loader:\n",
        "        batch_x = batch_x.view(-1, LENGTH*LENGTH).to(device)\n",
        "        batch_y = batch_y.to(device)\n",
        "\n",
        "        y_probs = model(batch_x)\n",
        "\n",
        "        loss = criterion(y_probs, batch_y)\n",
        "        batch_losses += len(batch_y) * loss.item()\n",
        "\n",
        "        y_pred = y_probs.argmax(dim=1)\n",
        "        correctly_labelled += (y_pred == batch_y).sum().item()\n",
        "    epoch_loss = batch_losses/len(test_loader.dataset)\n",
        "    test_losses.append(epoch_loss)\n",
        "    print(f'Val_loss={epoch_loss}. labelled {correctly_labelled}/{len(test_loader.dataset)} correctly ({correctly_labelled/len(test_loader.dataset)*100}% accuracy)')"
      ],
      "metadata": {
        "id": "qzD1sX8OVRsb",
        "colab": {
          "base_uri": "https://localhost:8080/"
        },
        "outputId": "3890e689-adfe-4130-d4f5-314dd0bb22a5"
      },
      "execution_count": null,
      "outputs": [
        {
          "output_type": "stream",
          "name": "stdout",
          "text": [
            "Val_loss=4.126519086217727. labelled 329/34896 correctly (0.9428014672168731% accuracy)\n"
          ]
        }
      ]
    },
    {
      "cell_type": "markdown",
      "source": [
        "Model Training"
      ],
      "metadata": {
        "id": "nhfPTOX8YWhN"
      }
    },
    {
      "cell_type": "code",
      "source": [
        "for epoch in range(num_epochs):\n",
        "    model.train()\n",
        "\n",
        "    epoch_train_loss = 0\n",
        "\n",
        "    for batch_x, batch_y in train_loader:\n",
        "        # Send to the GPU\n",
        "        batch_x = batch_x.view(-1, LENGTH*LENGTH).to(device) # Resize\n",
        "        batch_y = batch_y.to(device)\n",
        "\n",
        "        # Predict the porbabilities\n",
        "        y_probs = model(batch_x)\n",
        "\n",
        "        # Calculate the loss\n",
        "        loss = criterion(y_probs, batch_y)\n",
        "\n",
        "        # Train the model\n",
        "        optimizer.zero_grad()\n",
        "        loss.backward()\n",
        "        optimizer.step()\n",
        "\n",
        "        # Calculate average loss\n",
        "        epoch_train_loss += len(batch_y) * loss.item()\n",
        "    epoch_train_loss /= len(train_loader.dataset)\n",
        "    train_losses.append(epoch_train_loss) # Track loss\n",
        "\n",
        "    with torch.no_grad():\n",
        "        model.eval()\n",
        "        correctly_labelled = 0\n",
        "        batch_losses = 0\n",
        "        for batch_x, batch_y in test_loader:\n",
        "            # Send to the GPU\n",
        "            batch_x = batch_x.view(-1, LENGTH*LENGTH).to(device) # Resize\n",
        "            batch_y = batch_y.to(device)\n",
        "\n",
        "            # Predict probabilities\n",
        "            y_probs = model(batch_x)\n",
        "\n",
        "            # Calculate Loss\n",
        "            loss = criterion(y_probs, batch_y)\n",
        "            batch_losses += len(batch_y) * loss.item()\n",
        "\n",
        "            # Calculate correct labels\n",
        "            y_pred = y_probs.argmax(dim=1)\n",
        "            correctly_labelled += (y_pred == batch_y).sum().item()\n",
        "\n",
        "    test_epoch_loss = batch_losses/len(test_loader.dataset)\n",
        "    test_losses.append(test_epoch_loss) # Track loss\n",
        "    print(f'Epoch: {epoch}, train_loss={epoch_train_loss}, val_loss={test_epoch_loss}. labelled {correctly_labelled}/{len(test_loader.dataset)} correctly ({correctly_labelled/len(test_loader.dataset)*100}% accuracy)')"
      ],
      "metadata": {
        "colab": {
          "base_uri": "https://localhost:8080/"
        },
        "id": "5zhbNCuVYTwp",
        "outputId": "cf14ad46-7323-404e-e888-30363868036b"
      },
      "execution_count": null,
      "outputs": [
        {
          "output_type": "stream",
          "name": "stdout",
          "text": [
            "Epoch: 0, train_loss=1.367029711515229, val_loss=0.8611466559943995. labelled 25914/34896 correctly (74.26066024759285% accuracy)\n",
            "Epoch: 1, train_loss=0.8212880704351899, val_loss=0.6772998584513815. labelled 27439/34896 correctly (78.63078862906924% accuracy)\n",
            "Epoch: 2, train_loss=0.6961130616413566, val_loss=0.6007617820517178. labelled 28062/34896 correctly (80.41609353507565% accuracy)\n",
            "Epoch: 3, train_loss=0.63134455296538, val_loss=0.5554273823897043. labelled 28468/34896 correctly (81.57955066483265% accuracy)\n",
            "Epoch: 4, train_loss=0.5894070734654231, val_loss=0.5274006745537614. labelled 28754/34896 correctly (82.39912883998166% accuracy)\n",
            "Epoch: 5, train_loss=0.5608922053306562, val_loss=0.5087613004068889. labelled 28855/34896 correctly (82.68856029344337% accuracy)\n",
            "Epoch: 6, train_loss=0.5367839769510279, val_loss=0.4956988158410758. labelled 28901/34896 correctly (82.82038055937643% accuracy)\n",
            "Epoch: 7, train_loss=0.5197203205472151, val_loss=0.48013043724741755. labelled 29092/34896 correctly (83.36772122879414% accuracy)\n",
            "Epoch: 8, train_loss=0.5057892598591556, val_loss=0.46895121071438134. labelled 29193/34896 correctly (83.65715268225584% accuracy)\n",
            "Epoch: 9, train_loss=0.49269464013011477, val_loss=0.46146653162837303. labelled 29268/34896 correctly (83.87207702888583% accuracy)\n",
            "Epoch: 10, train_loss=0.4831876795304648, val_loss=0.4563138687531372. labelled 29276/34896 correctly (83.89500229252637% accuracy)\n",
            "Epoch: 11, train_loss=0.4737450898297711, val_loss=0.4514006984337707. labelled 29376/34896 correctly (84.181568088033% accuracy)\n",
            "Epoch: 12, train_loss=0.46582888960796326, val_loss=0.44948014187217034. labelled 29394/34896 correctly (84.2331499312242% accuracy)\n",
            "Epoch: 13, train_loss=0.4586036088666724, val_loss=0.44387120684862463. labelled 29408/34896 correctly (84.27326914259514% accuracy)\n",
            "Epoch: 14, train_loss=0.4510019919465645, val_loss=0.44132298524228875. labelled 29481/34896 correctly (84.482462173315% accuracy)\n",
            "Epoch: 15, train_loss=0.4450641109992792, val_loss=0.4397020455294386. labelled 29475/34896 correctly (84.4652682255846% accuracy)\n",
            "Epoch: 16, train_loss=0.43961587735015945, val_loss=0.43200198180737814. labelled 29581/34896 correctly (84.76902796882165% accuracy)\n",
            "Epoch: 17, train_loss=0.434523731076974, val_loss=0.4331043946639161. labelled 29554/34896 correctly (84.69165520403484% accuracy)\n",
            "Epoch: 18, train_loss=0.4304838684510809, val_loss=0.4279545917321323. labelled 29628/34896 correctly (84.90371389270976% accuracy)\n",
            "Epoch: 19, train_loss=0.42545628159964555, val_loss=0.42818234064255434. labelled 29623/34896 correctly (84.88938560293442% accuracy)\n",
            "Epoch: 20, train_loss=0.4225375083118609, val_loss=0.4272469093853156. labelled 29655/34896 correctly (84.98108665749656% accuracy)\n",
            "Epoch: 21, train_loss=0.419440706128703, val_loss=0.42857190086610925. labelled 29535/34896 correctly (84.63720770288859% accuracy)\n",
            "Epoch: 22, train_loss=0.4155878828660876, val_loss=0.4264792238611084. labelled 29582/34896 correctly (84.7718936267767% accuracy)\n",
            "Epoch: 23, train_loss=0.4112326868079452, val_loss=0.4236713085137393. labelled 29625/34896 correctly (84.89511691884456% accuracy)\n",
            "Epoch: 24, train_loss=0.4080256590927282, val_loss=0.42123251110110355. labelled 29652/34896 correctly (84.97248968363135% accuracy)\n"
          ]
        }
      ]
    },
    {
      "cell_type": "code",
      "source": [
        "plt.plot(train_losses, label='Train Loss')\n",
        "plt.plot(test_losses  , label='Test Loss')\n",
        "\n",
        "plt.ylabel('Loss (CCE)')\n",
        "plt.xlabel('Epoch')\n",
        "\n",
        "plt.legend()\n",
        "plt.show()\n"
      ],
      "metadata": {
        "id": "uARUJdlEb8HI",
        "colab": {
          "base_uri": "https://localhost:8080/",
          "height": 449
        },
        "outputId": "35123108-8968-498e-dbe0-2b94080d9ef9"
      },
      "execution_count": null,
      "outputs": [
        {
          "output_type": "display_data",
          "data": {
            "text/plain": [
              "<Figure size 640x480 with 1 Axes>"
            ],
            "image/png": "[encoded data removed]"
          },
          "metadata": {}
        }
      ]
    },
    {
      "cell_type": "code",
      "source": [
        "print(f'Final Loss:\\t\\t{test_losses[-1]}')\n",
        "print(f'Labelled Correctly:\\t{correctly_labelled}/{len(test_loader.dataset)}')\n",
        "print(f'Final Accuracy:\\t\\t{correctly_labelled/len(test_loader.dataset)*100}%')"
      ],
      "metadata": {
        "colab": {
          "base_uri": "https://localhost:8080/"
        },
        "id": "I2D9iqQi2pdE",
        "outputId": "faed61e0-23c2-4ea7-ac2c-6f93fede880e"
      },
      "execution_count": null,
      "outputs": [
        {
          "output_type": "stream",
          "name": "stdout",
          "text": [
            "Final Loss:\t\t0.42123251110110355\n",
            "Labelled Correctly:\t29652/34896\n",
            "Final Accuracy:\t\t84.97248968363135%\n"
          ]
        }
      ]
    }
  ]
}